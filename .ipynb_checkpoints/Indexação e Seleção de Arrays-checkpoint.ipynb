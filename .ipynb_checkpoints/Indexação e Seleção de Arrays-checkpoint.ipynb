{
 "cells": [
  {
   "cell_type": "code",
   "execution_count": 1,
   "id": "55d6a8d4",
   "metadata": {},
   "outputs": [],
   "source": [
    "import numpy as np"
   ]
  },
  {
   "cell_type": "code",
   "execution_count": 2,
   "id": "96ff7282",
   "metadata": {},
   "outputs": [],
   "source": [
    "# Arrays Unidimensionais"
   ]
  },
  {
   "cell_type": "code",
   "execution_count": 4,
   "id": "3d81d2fd",
   "metadata": {},
   "outputs": [],
   "source": [
    "arr = np.arange(1,11,dtype=int)"
   ]
  },
  {
   "cell_type": "code",
   "execution_count": 5,
   "id": "23482151",
   "metadata": {},
   "outputs": [
    {
     "data": {
      "text/plain": [
       "array([ 1,  2,  3,  4,  5,  6,  7,  8,  9, 10])"
      ]
     },
     "execution_count": 5,
     "metadata": {},
     "output_type": "execute_result"
    }
   ],
   "source": [
    "arr"
   ]
  },
  {
   "cell_type": "code",
   "execution_count": 6,
   "id": "fccd3925",
   "metadata": {},
   "outputs": [
    {
     "data": {
      "text/plain": [
       "5"
      ]
     },
     "execution_count": 6,
     "metadata": {},
     "output_type": "execute_result"
    }
   ],
   "source": [
    "arr[4]"
   ]
  },
  {
   "cell_type": "code",
   "execution_count": 7,
   "id": "53ac8ad0",
   "metadata": {},
   "outputs": [
    {
     "data": {
      "text/plain": [
       "array([2, 3, 4, 5, 6, 7, 8])"
      ]
     },
     "execution_count": 7,
     "metadata": {},
     "output_type": "execute_result"
    }
   ],
   "source": [
    "arr[1:8]"
   ]
  },
  {
   "cell_type": "code",
   "execution_count": 8,
   "id": "d6669cbe",
   "metadata": {},
   "outputs": [
    {
     "data": {
      "text/plain": [
       "array([1, 2, 3, 4, 5])"
      ]
     },
     "execution_count": 8,
     "metadata": {},
     "output_type": "execute_result"
    }
   ],
   "source": [
    "arr[:5]"
   ]
  },
  {
   "cell_type": "code",
   "execution_count": 9,
   "id": "74c1f0b9",
   "metadata": {},
   "outputs": [
    {
     "data": {
      "text/plain": [
       "array([ 3,  4,  5,  6,  7,  8,  9, 10])"
      ]
     },
     "execution_count": 9,
     "metadata": {},
     "output_type": "execute_result"
    }
   ],
   "source": [
    "arr[2:]"
   ]
  },
  {
   "cell_type": "code",
   "execution_count": 10,
   "id": "2dbf7f5c",
   "metadata": {},
   "outputs": [],
   "source": [
    "# Arrays Bidimensionais"
   ]
  },
  {
   "cell_type": "code",
   "execution_count": 16,
   "id": "353d71c0",
   "metadata": {},
   "outputs": [],
   "source": [
    "arr2 = np.random.randint(10,50,size=(3,3))"
   ]
  },
  {
   "cell_type": "code",
   "execution_count": 17,
   "id": "7e30be0f",
   "metadata": {},
   "outputs": [
    {
     "data": {
      "text/plain": [
       "array([[48, 40, 13],\n",
       "       [23, 29, 38],\n",
       "       [47, 35, 11]])"
      ]
     },
     "execution_count": 17,
     "metadata": {},
     "output_type": "execute_result"
    }
   ],
   "source": [
    "arr2"
   ]
  },
  {
   "cell_type": "code",
   "execution_count": 18,
   "id": "cc785af5",
   "metadata": {},
   "outputs": [
    {
     "data": {
      "text/plain": [
       "35"
      ]
     },
     "execution_count": 18,
     "metadata": {},
     "output_type": "execute_result"
    }
   ],
   "source": [
    "arr2[2][1]"
   ]
  },
  {
   "cell_type": "code",
   "execution_count": 20,
   "id": "85a636cb",
   "metadata": {},
   "outputs": [
    {
     "data": {
      "text/plain": [
       "array([47, 35])"
      ]
     },
     "execution_count": 20,
     "metadata": {},
     "output_type": "execute_result"
    }
   ],
   "source": [
    "arr2[2][:2]"
   ]
  },
  {
   "cell_type": "code",
   "execution_count": 21,
   "id": "3ee0327e",
   "metadata": {},
   "outputs": [],
   "source": [
    "arr3 = np.random.randint(1,101,size=(10,10))"
   ]
  },
  {
   "cell_type": "code",
   "execution_count": 22,
   "id": "7d395027",
   "metadata": {},
   "outputs": [
    {
     "data": {
      "text/plain": [
       "array([[75, 34, 22, 29, 79, 15, 50, 49, 89, 35],\n",
       "       [23, 32, 68, 90, 97, 61,  4, 75, 75, 34],\n",
       "       [ 9, 15, 77, 43,  1, 82, 17, 92, 61, 21],\n",
       "       [72, 76, 10, 19, 36, 42, 63, 30, 37, 65],\n",
       "       [98, 45, 26, 99, 88, 60, 14, 58, 19, 18],\n",
       "       [51, 52, 51, 35, 10, 60,  2, 49, 10, 82],\n",
       "       [83,  9, 61, 97, 35, 38, 81, 36, 28, 39],\n",
       "       [67, 28, 76, 61, 46, 61, 42, 72, 20, 71],\n",
       "       [82, 60, 10, 86, 59,  5, 63, 74, 48, 26],\n",
       "       [65, 86, 91, 50, 47, 84, 83, 17, 76, 53]])"
      ]
     },
     "execution_count": 22,
     "metadata": {},
     "output_type": "execute_result"
    }
   ],
   "source": [
    "arr3"
   ]
  },
  {
   "cell_type": "code",
   "execution_count": 23,
   "id": "0ba67ae2",
   "metadata": {},
   "outputs": [
    {
     "data": {
      "text/plain": [
       "36"
      ]
     },
     "execution_count": 23,
     "metadata": {},
     "output_type": "execute_result"
    }
   ],
   "source": [
    "arr3[3,4] # [linha, coluna]"
   ]
  },
  {
   "cell_type": "code",
   "execution_count": 24,
   "id": "00c0197a",
   "metadata": {},
   "outputs": [
    {
     "data": {
      "text/plain": [
       "array([[34, 22, 29],\n",
       "       [32, 68, 90]])"
      ]
     },
     "execution_count": 24,
     "metadata": {},
     "output_type": "execute_result"
    }
   ],
   "source": [
    "arr3[:2,1:4]"
   ]
  },
  {
   "cell_type": "code",
   "execution_count": 25,
   "id": "e8bd9dc9",
   "metadata": {},
   "outputs": [
    {
     "data": {
      "text/plain": [
       "array([[ 9, 15, 77, 43,  1, 82, 17, 92, 61, 21],\n",
       "       [98, 45, 26, 99, 88, 60, 14, 58, 19, 18],\n",
       "       [51, 52, 51, 35, 10, 60,  2, 49, 10, 82]])"
      ]
     },
     "execution_count": 25,
     "metadata": {},
     "output_type": "execute_result"
    }
   ],
   "source": [
    "arr3[[2,4,5]] # Retorna as linhas inteiras na ordem em que foram pedidas"
   ]
  },
  {
   "cell_type": "code",
   "execution_count": 26,
   "id": "e6e6ab69",
   "metadata": {},
   "outputs": [],
   "source": [
    "# SELEÇÃO DE ARRAYS"
   ]
  },
  {
   "cell_type": "code",
   "execution_count": 29,
   "id": "90595c66",
   "metadata": {},
   "outputs": [],
   "source": [
    "cadastro = np.random.randint(14,51,size=(30,10)) # Ex.: Array com idades de clientes de uma empresa"
   ]
  },
  {
   "cell_type": "code",
   "execution_count": 30,
   "id": "2622c57a",
   "metadata": {},
   "outputs": [
    {
     "data": {
      "text/plain": [
       "array([[30, 28, 28, 31, 21, 40, 24, 24, 42, 39],\n",
       "       [45, 26, 46, 27, 42, 15, 20, 18, 38, 48],\n",
       "       [24, 41, 24, 35, 35, 43, 28, 49, 20, 49],\n",
       "       [20, 27, 38, 24, 21, 30, 36, 39, 44, 28],\n",
       "       [39, 31, 38, 19, 47, 50, 48, 39, 15, 30],\n",
       "       [49, 27, 21, 45, 22, 21, 50, 35, 18, 35],\n",
       "       [33, 29, 40, 48, 16, 22, 19, 25, 17, 33],\n",
       "       [19, 32, 30, 19, 33, 32, 27, 29, 33, 26],\n",
       "       [34, 31, 37, 24, 45, 45, 48, 33, 18, 39],\n",
       "       [50, 30, 27, 25, 49, 44, 22, 17, 43, 38],\n",
       "       [21, 16, 38, 41, 27, 46, 37, 44, 25, 16],\n",
       "       [19, 29, 44, 42, 14, 34, 16, 49, 20, 28],\n",
       "       [38, 46, 26, 14, 34, 23, 28, 41, 23, 43],\n",
       "       [38, 29, 47, 47, 38, 23, 22, 31, 16, 30],\n",
       "       [39, 47, 48, 18, 40, 38, 40, 25, 47, 49],\n",
       "       [21, 40, 45, 47, 22, 15, 50, 17, 44, 24],\n",
       "       [23, 27, 36, 18, 48, 19, 17, 20, 19, 33],\n",
       "       [47, 31, 43, 27, 17, 35, 34, 21, 24, 48],\n",
       "       [50, 46, 35, 32, 37, 45, 21, 42, 21, 35],\n",
       "       [28, 18, 36, 41, 17, 35, 33, 17, 44, 30],\n",
       "       [22, 26, 28, 14, 39, 34, 34, 50, 16, 38],\n",
       "       [14, 50, 20, 46, 25, 43, 38, 49, 49, 19],\n",
       "       [29, 38, 46, 16, 17, 45, 34, 35, 19, 18],\n",
       "       [47, 16, 27, 38, 16, 17, 49, 25, 14, 18],\n",
       "       [35, 44, 43, 47, 43, 41, 15, 29, 40, 32],\n",
       "       [28, 26, 39, 22, 40, 42, 23, 17, 16, 40],\n",
       "       [43, 46, 33, 25, 26, 33, 30, 48, 35, 50],\n",
       "       [30, 34, 40, 26, 23, 37, 40, 28, 23, 19],\n",
       "       [46, 49, 36, 41, 17, 47, 48, 31, 35, 24],\n",
       "       [33, 33, 22, 35, 21, 29, 26, 43, 46, 49]])"
      ]
     },
     "execution_count": 30,
     "metadata": {},
     "output_type": "execute_result"
    }
   ],
   "source": [
    "cadastro"
   ]
  },
  {
   "cell_type": "code",
   "execution_count": 31,
   "id": "1eab2bce",
   "metadata": {},
   "outputs": [],
   "source": [
    "# Selecionar apenas os clientes com idade +18 (maior ou igual a 18)"
   ]
  },
  {
   "cell_type": "code",
   "execution_count": 32,
   "id": "667ad1fb",
   "metadata": {},
   "outputs": [],
   "source": [
    "cadastro_18 = cadastro >= 18"
   ]
  },
  {
   "cell_type": "code",
   "execution_count": 33,
   "id": "1bb5ef19",
   "metadata": {},
   "outputs": [
    {
     "data": {
      "text/plain": [
       "array([[ True,  True,  True,  True,  True,  True,  True,  True,  True,\n",
       "         True],\n",
       "       [ True,  True,  True,  True,  True, False,  True,  True,  True,\n",
       "         True],\n",
       "       [ True,  True,  True,  True,  True,  True,  True,  True,  True,\n",
       "         True],\n",
       "       [ True,  True,  True,  True,  True,  True,  True,  True,  True,\n",
       "         True],\n",
       "       [ True,  True,  True,  True,  True,  True,  True,  True, False,\n",
       "         True],\n",
       "       [ True,  True,  True,  True,  True,  True,  True,  True,  True,\n",
       "         True],\n",
       "       [ True,  True,  True,  True, False,  True,  True,  True, False,\n",
       "         True],\n",
       "       [ True,  True,  True,  True,  True,  True,  True,  True,  True,\n",
       "         True],\n",
       "       [ True,  True,  True,  True,  True,  True,  True,  True,  True,\n",
       "         True],\n",
       "       [ True,  True,  True,  True,  True,  True,  True, False,  True,\n",
       "         True],\n",
       "       [ True, False,  True,  True,  True,  True,  True,  True,  True,\n",
       "        False],\n",
       "       [ True,  True,  True,  True, False,  True, False,  True,  True,\n",
       "         True],\n",
       "       [ True,  True,  True, False,  True,  True,  True,  True,  True,\n",
       "         True],\n",
       "       [ True,  True,  True,  True,  True,  True,  True,  True, False,\n",
       "         True],\n",
       "       [ True,  True,  True,  True,  True,  True,  True,  True,  True,\n",
       "         True],\n",
       "       [ True,  True,  True,  True,  True, False,  True, False,  True,\n",
       "         True],\n",
       "       [ True,  True,  True,  True,  True,  True, False,  True,  True,\n",
       "         True],\n",
       "       [ True,  True,  True,  True, False,  True,  True,  True,  True,\n",
       "         True],\n",
       "       [ True,  True,  True,  True,  True,  True,  True,  True,  True,\n",
       "         True],\n",
       "       [ True,  True,  True,  True, False,  True,  True, False,  True,\n",
       "         True],\n",
       "       [ True,  True,  True, False,  True,  True,  True,  True, False,\n",
       "         True],\n",
       "       [False,  True,  True,  True,  True,  True,  True,  True,  True,\n",
       "         True],\n",
       "       [ True,  True,  True, False, False,  True,  True,  True,  True,\n",
       "         True],\n",
       "       [ True, False,  True,  True, False, False,  True,  True, False,\n",
       "         True],\n",
       "       [ True,  True,  True,  True,  True,  True, False,  True,  True,\n",
       "         True],\n",
       "       [ True,  True,  True,  True,  True,  True,  True, False, False,\n",
       "         True],\n",
       "       [ True,  True,  True,  True,  True,  True,  True,  True,  True,\n",
       "         True],\n",
       "       [ True,  True,  True,  True,  True,  True,  True,  True,  True,\n",
       "         True],\n",
       "       [ True,  True,  True,  True, False,  True,  True,  True,  True,\n",
       "         True],\n",
       "       [ True,  True,  True,  True,  True,  True,  True,  True,  True,\n",
       "         True]])"
      ]
     },
     "execution_count": 33,
     "metadata": {},
     "output_type": "execute_result"
    }
   ],
   "source": [
    "cadastro_18"
   ]
  },
  {
   "cell_type": "code",
   "execution_count": 36,
   "id": "9bd38697",
   "metadata": {},
   "outputs": [],
   "source": [
    "arr3 = cadastro[cadastro_18] # Apenas os valores maiores ou iguais a 18 do array cadastro"
   ]
  },
  {
   "cell_type": "code",
   "execution_count": 37,
   "id": "b62ae9d6",
   "metadata": {},
   "outputs": [
    {
     "data": {
      "text/plain": [
       "array([30, 28, 28, 31, 21, 40, 24, 24, 42, 39, 45, 26, 46, 27, 42, 20, 18,\n",
       "       38, 48, 24, 41, 24, 35, 35, 43, 28, 49, 20, 49, 20, 27, 38, 24, 21,\n",
       "       30, 36, 39, 44, 28, 39, 31, 38, 19, 47, 50, 48, 39, 30, 49, 27, 21,\n",
       "       45, 22, 21, 50, 35, 18, 35, 33, 29, 40, 48, 22, 19, 25, 33, 19, 32,\n",
       "       30, 19, 33, 32, 27, 29, 33, 26, 34, 31, 37, 24, 45, 45, 48, 33, 18,\n",
       "       39, 50, 30, 27, 25, 49, 44, 22, 43, 38, 21, 38, 41, 27, 46, 37, 44,\n",
       "       25, 19, 29, 44, 42, 34, 49, 20, 28, 38, 46, 26, 34, 23, 28, 41, 23,\n",
       "       43, 38, 29, 47, 47, 38, 23, 22, 31, 30, 39, 47, 48, 18, 40, 38, 40,\n",
       "       25, 47, 49, 21, 40, 45, 47, 22, 50, 44, 24, 23, 27, 36, 18, 48, 19,\n",
       "       20, 19, 33, 47, 31, 43, 27, 35, 34, 21, 24, 48, 50, 46, 35, 32, 37,\n",
       "       45, 21, 42, 21, 35, 28, 18, 36, 41, 35, 33, 44, 30, 22, 26, 28, 39,\n",
       "       34, 34, 50, 38, 50, 20, 46, 25, 43, 38, 49, 49, 19, 29, 38, 46, 45,\n",
       "       34, 35, 19, 18, 47, 27, 38, 49, 25, 18, 35, 44, 43, 47, 43, 41, 29,\n",
       "       40, 32, 28, 26, 39, 22, 40, 42, 23, 40, 43, 46, 33, 25, 26, 33, 30,\n",
       "       48, 35, 50, 30, 34, 40, 26, 23, 37, 40, 28, 23, 19, 46, 49, 36, 41,\n",
       "       47, 48, 31, 35, 24, 33, 33, 22, 35, 21, 29, 26, 43, 46, 49])"
      ]
     },
     "execution_count": 37,
     "metadata": {},
     "output_type": "execute_result"
    }
   ],
   "source": [
    "arr3"
   ]
  },
  {
   "cell_type": "code",
   "execution_count": 38,
   "id": "69eb4152",
   "metadata": {},
   "outputs": [
    {
     "data": {
      "text/plain": [
       "270"
      ]
     },
     "execution_count": 38,
     "metadata": {},
     "output_type": "execute_result"
    }
   ],
   "source": [
    "len(arr3) # Retorna o tamanho do array arr3"
   ]
  },
  {
   "cell_type": "code",
   "execution_count": 39,
   "id": "3faecf32",
   "metadata": {},
   "outputs": [
    {
     "data": {
      "text/plain": [
       "270"
      ]
     },
     "execution_count": 39,
     "metadata": {},
     "output_type": "execute_result"
    }
   ],
   "source": [
    "cadastro_18.sum() # Retorna a quantidade de valores \"True \" no array cadastro_18"
   ]
  },
  {
   "cell_type": "code",
   "execution_count": 40,
   "id": "28eb6cdf",
   "metadata": {},
   "outputs": [],
   "source": [
    "arr4 = cadastro[cadastro<18] # Retorna apenas os menores de 18 devido a condição \"[cadastro<18]\""
   ]
  },
  {
   "cell_type": "code",
   "execution_count": 42,
   "id": "18bccb29",
   "metadata": {},
   "outputs": [
    {
     "data": {
      "text/plain": [
       "array([15, 15, 16, 17, 17, 16, 16, 14, 16, 14, 16, 15, 17, 17, 17, 17, 17,\n",
       "       14, 16, 14, 16, 17, 16, 16, 17, 14, 15, 17, 16, 17])"
      ]
     },
     "execution_count": 42,
     "metadata": {},
     "output_type": "execute_result"
    }
   ],
   "source": [
    "arr4"
   ]
  },
  {
   "cell_type": "code",
   "execution_count": 44,
   "id": "f48d13dc",
   "metadata": {},
   "outputs": [],
   "source": [
    "extraido = np.extract(cadastro>21, cadastro) # Extrai os valores por meio de uma condição = np.extract(condição, array)"
   ]
  },
  {
   "cell_type": "code",
   "execution_count": 45,
   "id": "b2630689",
   "metadata": {},
   "outputs": [
    {
     "data": {
      "text/plain": [
       "array([30, 28, 28, 31, 40, 24, 24, 42, 39, 45, 26, 46, 27, 42, 38, 48, 24,\n",
       "       41, 24, 35, 35, 43, 28, 49, 49, 27, 38, 24, 30, 36, 39, 44, 28, 39,\n",
       "       31, 38, 47, 50, 48, 39, 30, 49, 27, 45, 22, 50, 35, 35, 33, 29, 40,\n",
       "       48, 22, 25, 33, 32, 30, 33, 32, 27, 29, 33, 26, 34, 31, 37, 24, 45,\n",
       "       45, 48, 33, 39, 50, 30, 27, 25, 49, 44, 22, 43, 38, 38, 41, 27, 46,\n",
       "       37, 44, 25, 29, 44, 42, 34, 49, 28, 38, 46, 26, 34, 23, 28, 41, 23,\n",
       "       43, 38, 29, 47, 47, 38, 23, 22, 31, 30, 39, 47, 48, 40, 38, 40, 25,\n",
       "       47, 49, 40, 45, 47, 22, 50, 44, 24, 23, 27, 36, 48, 33, 47, 31, 43,\n",
       "       27, 35, 34, 24, 48, 50, 46, 35, 32, 37, 45, 42, 35, 28, 36, 41, 35,\n",
       "       33, 44, 30, 22, 26, 28, 39, 34, 34, 50, 38, 50, 46, 25, 43, 38, 49,\n",
       "       49, 29, 38, 46, 45, 34, 35, 47, 27, 38, 49, 25, 35, 44, 43, 47, 43,\n",
       "       41, 29, 40, 32, 28, 26, 39, 22, 40, 42, 23, 40, 43, 46, 33, 25, 26,\n",
       "       33, 30, 48, 35, 50, 30, 34, 40, 26, 23, 37, 40, 28, 23, 46, 49, 36,\n",
       "       41, 47, 48, 31, 35, 24, 33, 33, 22, 35, 29, 26, 43, 46, 49])"
      ]
     },
     "execution_count": 45,
     "metadata": {},
     "output_type": "execute_result"
    }
   ],
   "source": [
    "extraido"
   ]
  }
 ],
 "metadata": {
  "kernelspec": {
   "display_name": "Python 3 (ipykernel)",
   "language": "python",
   "name": "python3"
  },
  "language_info": {
   "codemirror_mode": {
    "name": "ipython",
    "version": 3
   },
   "file_extension": ".py",
   "mimetype": "text/x-python",
   "name": "python",
   "nbconvert_exporter": "python",
   "pygments_lexer": "ipython3",
   "version": "3.11.4"
  }
 },
 "nbformat": 4,
 "nbformat_minor": 5
}
