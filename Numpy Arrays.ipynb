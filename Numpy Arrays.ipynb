{
 "cells": [
  {
   "cell_type": "code",
   "execution_count": 4,
   "id": "694d6622",
   "metadata": {},
   "outputs": [],
   "source": [
    "import numpy as np"
   ]
  },
  {
   "cell_type": "code",
   "execution_count": 5,
   "id": "73fef6e2",
   "metadata": {},
   "outputs": [],
   "source": [
    "qtd = [4,26,54,152]\n",
    "custo = [100, 150, 220, 450]"
   ]
  },
  {
   "cell_type": "code",
   "execution_count": 6,
   "id": "ec71ef76",
   "metadata": {},
   "outputs": [],
   "source": [
    "arr1 = np.array(qtd)"
   ]
  },
  {
   "cell_type": "code",
   "execution_count": 7,
   "id": "2b7cf7c8",
   "metadata": {},
   "outputs": [],
   "source": [
    "arr2 = np.array(custo)"
   ]
  },
  {
   "cell_type": "code",
   "execution_count": 8,
   "id": "2a76c430",
   "metadata": {},
   "outputs": [],
   "source": [
    "estoque = arr1*arr2"
   ]
  },
  {
   "cell_type": "code",
   "execution_count": 9,
   "id": "6a94f48e",
   "metadata": {},
   "outputs": [
    {
     "data": {
      "text/plain": [
       "array([  400,  3900, 11880, 68400])"
      ]
     },
     "execution_count": 9,
     "metadata": {},
     "output_type": "execute_result"
    }
   ],
   "source": [
    "estoque"
   ]
  },
  {
   "cell_type": "code",
   "execution_count": 10,
   "id": "2fec2b92",
   "metadata": {},
   "outputs": [],
   "source": [
    "# Exemplo - Cálculo de lucro utilizando arrays"
   ]
  },
  {
   "cell_type": "code",
   "execution_count": 11,
   "id": "38a15980",
   "metadata": {},
   "outputs": [],
   "source": [
    "custo = [100,250,345,512]\n",
    "venda = [165,312,430,640]"
   ]
  },
  {
   "cell_type": "code",
   "execution_count": 12,
   "id": "abd77349",
   "metadata": {},
   "outputs": [],
   "source": [
    "arr3 = np.array(custo)"
   ]
  },
  {
   "cell_type": "code",
   "execution_count": 13,
   "id": "c10c970e",
   "metadata": {},
   "outputs": [],
   "source": [
    "arr4 = np.array(venda)"
   ]
  },
  {
   "cell_type": "code",
   "execution_count": 14,
   "id": "725c0a33",
   "metadata": {},
   "outputs": [],
   "source": [
    "lucro = arr4 - arr3"
   ]
  },
  {
   "cell_type": "code",
   "execution_count": 15,
   "id": "685fa340",
   "metadata": {},
   "outputs": [
    {
     "data": {
      "text/plain": [
       "array([ 65,  62,  85, 128])"
      ]
     },
     "execution_count": 15,
     "metadata": {},
     "output_type": "execute_result"
    }
   ],
   "source": [
    "lucro"
   ]
  },
  {
   "cell_type": "code",
   "execution_count": 16,
   "id": "5673bd2d",
   "metadata": {},
   "outputs": [],
   "source": [
    "# Função arange()"
   ]
  },
  {
   "cell_type": "code",
   "execution_count": 17,
   "id": "0541881a",
   "metadata": {},
   "outputs": [
    {
     "data": {
      "text/plain": [
       "array([10, 11, 12, 13, 14, 15, 16, 17, 18, 19])"
      ]
     },
     "execution_count": 17,
     "metadata": {},
     "output_type": "execute_result"
    }
   ],
   "source": [
    "np.arange(10,20)"
   ]
  },
  {
   "cell_type": "code",
   "execution_count": 18,
   "id": "1c60e4f0",
   "metadata": {},
   "outputs": [
    {
     "data": {
      "text/plain": [
       "array([10, 12, 14, 16, 18, 20])"
      ]
     },
     "execution_count": 18,
     "metadata": {},
     "output_type": "execute_result"
    }
   ],
   "source": [
    "np.arange(10,21,2)"
   ]
  },
  {
   "cell_type": "code",
   "execution_count": 19,
   "id": "6c626bbb",
   "metadata": {},
   "outputs": [
    {
     "data": {
      "text/plain": [
       "array([10., 12., 14., 16., 18., 20., 22., 24., 26., 28., 30., 32., 34.,\n",
       "       36., 38., 40., 42., 44., 46., 48., 50.])"
      ]
     },
     "execution_count": 19,
     "metadata": {},
     "output_type": "execute_result"
    }
   ],
   "source": [
    "np.arange(10,51,2,dtype=float)"
   ]
  },
  {
   "cell_type": "code",
   "execution_count": 20,
   "id": "7adcaf96",
   "metadata": {},
   "outputs": [],
   "source": [
    "# Função linspace()"
   ]
  },
  {
   "cell_type": "code",
   "execution_count": 21,
   "id": "776a56fa",
   "metadata": {},
   "outputs": [
    {
     "data": {
      "text/plain": [
       "array([0.        , 0.11111111, 0.22222222, 0.33333333, 0.44444444,\n",
       "       0.55555556, 0.66666667, 0.77777778, 0.88888889, 1.        ])"
      ]
     },
     "execution_count": 21,
     "metadata": {},
     "output_type": "execute_result"
    }
   ],
   "source": [
    "np.linspace(0,1,10)"
   ]
  },
  {
   "cell_type": "code",
   "execution_count": 22,
   "id": "82dbc386",
   "metadata": {},
   "outputs": [
    {
     "data": {
      "text/plain": [
       "array([ 0.        ,  2.22222222,  4.44444444,  6.66666667,  8.88888889,\n",
       "       11.11111111, 13.33333333, 15.55555556, 17.77777778, 20.        ])"
      ]
     },
     "execution_count": 22,
     "metadata": {},
     "output_type": "execute_result"
    }
   ],
   "source": [
    "np.linspace(0,20,10)"
   ]
  },
  {
   "cell_type": "code",
   "execution_count": 23,
   "id": "40a51597",
   "metadata": {},
   "outputs": [],
   "source": [
    "# Random - rand, randn e randint"
   ]
  },
  {
   "cell_type": "code",
   "execution_count": 24,
   "id": "f9039d3f",
   "metadata": {},
   "outputs": [
    {
     "data": {
      "text/plain": [
       "array([0.41008287, 0.50799831, 0.1223202 , 0.73121142, 0.29404762,\n",
       "       0.52304112, 0.64376451, 0.1276443 , 0.12969882, 0.69184249])"
      ]
     },
     "execution_count": 24,
     "metadata": {},
     "output_type": "execute_result"
    }
   ],
   "source": [
    "np.random.rand(10)"
   ]
  },
  {
   "cell_type": "code",
   "execution_count": 25,
   "id": "18afe7ac",
   "metadata": {},
   "outputs": [
    {
     "data": {
      "text/plain": [
       "array([ 0.67021935,  1.39274389, -0.04770348, -0.01445193, -1.04420643,\n",
       "        0.22510984,  0.15790221,  0.48129809, -0.12923523, -2.36563188,\n",
       "        0.51957954, -0.31379727, -0.5062888 ,  0.81576257,  0.32286009])"
      ]
     },
     "execution_count": 25,
     "metadata": {},
     "output_type": "execute_result"
    }
   ],
   "source": [
    "np.random.randn(15)"
   ]
  },
  {
   "cell_type": "code",
   "execution_count": 26,
   "id": "0dee2bf2",
   "metadata": {},
   "outputs": [
    {
     "data": {
      "text/plain": [
       "array([35, 32, 43, 83, 93, 77, 96, 70, 39, 45, 16, 68, 89, 96, 90, 55, 52,\n",
       "       94, 91, 53, 13, 37, 25, 95, 49, 72, 26, 72, 99, 20])"
      ]
     },
     "execution_count": 26,
     "metadata": {},
     "output_type": "execute_result"
    }
   ],
   "source": [
    "np.random.randint(10,100,30) # (inicio, fim, quantidade)"
   ]
  },
  {
   "cell_type": "code",
   "execution_count": 27,
   "id": "209e313c",
   "metadata": {},
   "outputs": [],
   "source": [
    "# zeros e ones"
   ]
  },
  {
   "cell_type": "code",
   "execution_count": 29,
   "id": "9177ae8b",
   "metadata": {},
   "outputs": [
    {
     "data": {
      "text/plain": [
       "array([[0., 0., 0., 0.],\n",
       "       [0., 0., 0., 0.],\n",
       "       [0., 0., 0., 0.],\n",
       "       [0., 0., 0., 0.],\n",
       "       [0., 0., 0., 0.]])"
      ]
     },
     "execution_count": 29,
     "metadata": {},
     "output_type": "execute_result"
    }
   ],
   "source": [
    "np.zeros((5,4)) # ((linhas,colunas))"
   ]
  },
  {
   "cell_type": "code",
   "execution_count": 30,
   "id": "881d2d4f",
   "metadata": {},
   "outputs": [
    {
     "data": {
      "text/plain": [
       "array([[1., 1., 1., 1., 1.],\n",
       "       [1., 1., 1., 1., 1.],\n",
       "       [1., 1., 1., 1., 1.],\n",
       "       [1., 1., 1., 1., 1.],\n",
       "       [1., 1., 1., 1., 1.]])"
      ]
     },
     "execution_count": 30,
     "metadata": {},
     "output_type": "execute_result"
    }
   ],
   "source": [
    "np.ones((5,5))"
   ]
  },
  {
   "cell_type": "code",
   "execution_count": 31,
   "id": "c826532a",
   "metadata": {},
   "outputs": [
    {
     "data": {
      "text/plain": [
       "array([[1., 0., 0., 0., 0., 0.],\n",
       "       [0., 1., 0., 0., 0., 0.],\n",
       "       [0., 0., 1., 0., 0., 0.],\n",
       "       [0., 0., 0., 1., 0., 0.],\n",
       "       [0., 0., 0., 0., 1., 0.],\n",
       "       [0., 0., 0., 0., 0., 1.]])"
      ]
     },
     "execution_count": 31,
     "metadata": {},
     "output_type": "execute_result"
    }
   ],
   "source": [
    "np.eye(6) # Criação de uma matriz com a diagonal 1"
   ]
  },
  {
   "cell_type": "code",
   "execution_count": null,
   "id": "5dcb1aa7",
   "metadata": {},
   "outputs": [],
   "source": []
  }
 ],
 "metadata": {
  "kernelspec": {
   "display_name": "Python 3 (ipykernel)",
   "language": "python",
   "name": "python3"
  },
  "language_info": {
   "codemirror_mode": {
    "name": "ipython",
    "version": 3
   },
   "file_extension": ".py",
   "mimetype": "text/x-python",
   "name": "python",
   "nbconvert_exporter": "python",
   "pygments_lexer": "ipython3",
   "version": "3.11.4"
  }
 },
 "nbformat": 4,
 "nbformat_minor": 5
}
