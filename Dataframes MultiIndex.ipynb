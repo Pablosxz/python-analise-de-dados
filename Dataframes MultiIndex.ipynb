{
 "cells": [
  {
   "cell_type": "code",
   "execution_count": 6,
   "id": "f1bfc88f",
   "metadata": {},
   "outputs": [],
   "source": [
    "import pandas as pd\n",
    "import numpy as np"
   ]
  },
  {
   "cell_type": "code",
   "execution_count": 11,
   "id": "9b0b17e8",
   "metadata": {},
   "outputs": [],
   "source": [
    "lista = [['BRASIL','BRASIL','BRASIL','ARGENTINA','ARGENTINA','ARGENTINA',],[2017,2018,2019,2017,2018,2019]]"
   ]
  },
  {
   "cell_type": "code",
   "execution_count": 12,
   "id": "cd29183c",
   "metadata": {},
   "outputs": [],
   "source": [
    "tuplas = zip(*lista) # Serve para juntar os elementos de uma lista que contenha mais de uma lista dentro ((0,0),(1,1),...)"
   ]
  },
  {
   "cell_type": "code",
   "execution_count": 13,
   "id": "1035d7a3",
   "metadata": {},
   "outputs": [],
   "source": [
    "tuplas = list(tuplas)"
   ]
  },
  {
   "cell_type": "code",
   "execution_count": 14,
   "id": "21a1543e",
   "metadata": {},
   "outputs": [
    {
     "data": {
      "text/plain": [
       "[('BRASIL', 2017),\n",
       " ('BRASIL', 2018),\n",
       " ('BRASIL', 2019),\n",
       " ('ARGENTINA', 2017),\n",
       " ('ARGENTINA', 2018),\n",
       " ('ARGENTINA', 2019)]"
      ]
     },
     "execution_count": 14,
     "metadata": {},
     "output_type": "execute_result"
    }
   ],
   "source": [
    "tuplas"
   ]
  },
  {
   "cell_type": "code",
   "execution_count": 15,
   "id": "906ff84a",
   "metadata": {},
   "outputs": [],
   "source": [
    "multi = pd.MultiIndex.from_tuples(tuplas) # Função que transforma em MultiIndex a tupla escolhida."
   ]
  },
  {
   "cell_type": "code",
   "execution_count": 16,
   "id": "f6672994",
   "metadata": {},
   "outputs": [
    {
     "data": {
      "text/plain": [
       "MultiIndex([(   'BRASIL', 2017),\n",
       "            (   'BRASIL', 2018),\n",
       "            (   'BRASIL', 2019),\n",
       "            ('ARGENTINA', 2017),\n",
       "            ('ARGENTINA', 2018),\n",
       "            ('ARGENTINA', 2019)],\n",
       "           )"
      ]
     },
     "execution_count": 16,
     "metadata": {},
     "output_type": "execute_result"
    }
   ],
   "source": [
    "multi"
   ]
  },
  {
   "cell_type": "code",
   "execution_count": 17,
   "id": "afc26c7b",
   "metadata": {},
   "outputs": [],
   "source": [
    "df1 = pd.DataFrame(data=np.random.randn(6,2),index=multi,columns=['EXP TRIGO', 'EXP ARROZ'])"
   ]
  },
  {
   "cell_type": "code",
   "execution_count": 18,
   "id": "4a2ee1bf",
   "metadata": {},
   "outputs": [
    {
     "data": {
      "text/html": [
       "<div>\n",
       "<style scoped>\n",
       "    .dataframe tbody tr th:only-of-type {\n",
       "        vertical-align: middle;\n",
       "    }\n",
       "\n",
       "    .dataframe tbody tr th {\n",
       "        vertical-align: top;\n",
       "    }\n",
       "\n",
       "    .dataframe thead th {\n",
       "        text-align: right;\n",
       "    }\n",
       "</style>\n",
       "<table border=\"1\" class=\"dataframe\">\n",
       "  <thead>\n",
       "    <tr style=\"text-align: right;\">\n",
       "      <th></th>\n",
       "      <th></th>\n",
       "      <th>EXP TRIGO</th>\n",
       "      <th>EXP ARROZ</th>\n",
       "    </tr>\n",
       "  </thead>\n",
       "  <tbody>\n",
       "    <tr>\n",
       "      <th rowspan=\"3\" valign=\"top\">BRASIL</th>\n",
       "      <th>2017</th>\n",
       "      <td>-0.201390</td>\n",
       "      <td>1.210494</td>\n",
       "    </tr>\n",
       "    <tr>\n",
       "      <th>2018</th>\n",
       "      <td>-0.465098</td>\n",
       "      <td>1.875928</td>\n",
       "    </tr>\n",
       "    <tr>\n",
       "      <th>2019</th>\n",
       "      <td>-0.101188</td>\n",
       "      <td>1.196727</td>\n",
       "    </tr>\n",
       "    <tr>\n",
       "      <th rowspan=\"3\" valign=\"top\">ARGENTINA</th>\n",
       "      <th>2017</th>\n",
       "      <td>-0.470613</td>\n",
       "      <td>1.859459</td>\n",
       "    </tr>\n",
       "    <tr>\n",
       "      <th>2018</th>\n",
       "      <td>0.972558</td>\n",
       "      <td>-0.205548</td>\n",
       "    </tr>\n",
       "    <tr>\n",
       "      <th>2019</th>\n",
       "      <td>-0.071854</td>\n",
       "      <td>1.523369</td>\n",
       "    </tr>\n",
       "  </tbody>\n",
       "</table>\n",
       "</div>"
      ],
      "text/plain": [
       "                EXP TRIGO  EXP ARROZ\n",
       "BRASIL    2017  -0.201390   1.210494\n",
       "          2018  -0.465098   1.875928\n",
       "          2019  -0.101188   1.196727\n",
       "ARGENTINA 2017  -0.470613   1.859459\n",
       "          2018   0.972558  -0.205548\n",
       "          2019  -0.071854   1.523369"
      ]
     },
     "execution_count": 18,
     "metadata": {},
     "output_type": "execute_result"
    }
   ],
   "source": [
    "df1"
   ]
  },
  {
   "cell_type": "code",
   "execution_count": 23,
   "id": "6616936a",
   "metadata": {},
   "outputs": [],
   "source": [
    "df1.index.names = ['País','Ano'] # Colocar um nome nos indices do Dataframe"
   ]
  },
  {
   "cell_type": "code",
   "execution_count": 24,
   "id": "9621884d",
   "metadata": {},
   "outputs": [
    {
     "data": {
      "text/html": [
       "<div>\n",
       "<style scoped>\n",
       "    .dataframe tbody tr th:only-of-type {\n",
       "        vertical-align: middle;\n",
       "    }\n",
       "\n",
       "    .dataframe tbody tr th {\n",
       "        vertical-align: top;\n",
       "    }\n",
       "\n",
       "    .dataframe thead th {\n",
       "        text-align: right;\n",
       "    }\n",
       "</style>\n",
       "<table border=\"1\" class=\"dataframe\">\n",
       "  <thead>\n",
       "    <tr style=\"text-align: right;\">\n",
       "      <th></th>\n",
       "      <th></th>\n",
       "      <th>EXP TRIGO</th>\n",
       "      <th>EXP ARROZ</th>\n",
       "    </tr>\n",
       "    <tr>\n",
       "      <th>País</th>\n",
       "      <th>Ano</th>\n",
       "      <th></th>\n",
       "      <th></th>\n",
       "    </tr>\n",
       "  </thead>\n",
       "  <tbody>\n",
       "    <tr>\n",
       "      <th rowspan=\"3\" valign=\"top\">BRASIL</th>\n",
       "      <th>2017</th>\n",
       "      <td>-0.201390</td>\n",
       "      <td>1.210494</td>\n",
       "    </tr>\n",
       "    <tr>\n",
       "      <th>2018</th>\n",
       "      <td>-0.465098</td>\n",
       "      <td>1.875928</td>\n",
       "    </tr>\n",
       "    <tr>\n",
       "      <th>2019</th>\n",
       "      <td>-0.101188</td>\n",
       "      <td>1.196727</td>\n",
       "    </tr>\n",
       "    <tr>\n",
       "      <th rowspan=\"3\" valign=\"top\">ARGENTINA</th>\n",
       "      <th>2017</th>\n",
       "      <td>-0.470613</td>\n",
       "      <td>1.859459</td>\n",
       "    </tr>\n",
       "    <tr>\n",
       "      <th>2018</th>\n",
       "      <td>0.972558</td>\n",
       "      <td>-0.205548</td>\n",
       "    </tr>\n",
       "    <tr>\n",
       "      <th>2019</th>\n",
       "      <td>-0.071854</td>\n",
       "      <td>1.523369</td>\n",
       "    </tr>\n",
       "  </tbody>\n",
       "</table>\n",
       "</div>"
      ],
      "text/plain": [
       "                EXP TRIGO  EXP ARROZ\n",
       "País      Ano                       \n",
       "BRASIL    2017  -0.201390   1.210494\n",
       "          2018  -0.465098   1.875928\n",
       "          2019  -0.101188   1.196727\n",
       "ARGENTINA 2017  -0.470613   1.859459\n",
       "          2018   0.972558  -0.205548\n",
       "          2019  -0.071854   1.523369"
      ]
     },
     "execution_count": 24,
     "metadata": {},
     "output_type": "execute_result"
    }
   ],
   "source": [
    "df1"
   ]
  },
  {
   "cell_type": "code",
   "execution_count": 25,
   "id": "8d47af85",
   "metadata": {},
   "outputs": [],
   "source": [
    "# Encontrando valores"
   ]
  },
  {
   "cell_type": "code",
   "execution_count": 26,
   "id": "7b498694",
   "metadata": {},
   "outputs": [
    {
     "data": {
      "text/plain": [
       "País       Ano \n",
       "BRASIL     2017    1.210494\n",
       "           2018    1.875928\n",
       "           2019    1.196727\n",
       "ARGENTINA  2017    1.859459\n",
       "           2018   -0.205548\n",
       "           2019    1.523369\n",
       "Name: EXP ARROZ, dtype: float64"
      ]
     },
     "execution_count": 26,
     "metadata": {},
     "output_type": "execute_result"
    }
   ],
   "source": [
    "df1['EXP ARROZ']"
   ]
  },
  {
   "cell_type": "code",
   "execution_count": 27,
   "id": "e4cd2df1",
   "metadata": {},
   "outputs": [
    {
     "data": {
      "text/html": [
       "<div>\n",
       "<style scoped>\n",
       "    .dataframe tbody tr th:only-of-type {\n",
       "        vertical-align: middle;\n",
       "    }\n",
       "\n",
       "    .dataframe tbody tr th {\n",
       "        vertical-align: top;\n",
       "    }\n",
       "\n",
       "    .dataframe thead th {\n",
       "        text-align: right;\n",
       "    }\n",
       "</style>\n",
       "<table border=\"1\" class=\"dataframe\">\n",
       "  <thead>\n",
       "    <tr style=\"text-align: right;\">\n",
       "      <th></th>\n",
       "      <th>EXP TRIGO</th>\n",
       "      <th>EXP ARROZ</th>\n",
       "    </tr>\n",
       "    <tr>\n",
       "      <th>Ano</th>\n",
       "      <th></th>\n",
       "      <th></th>\n",
       "    </tr>\n",
       "  </thead>\n",
       "  <tbody>\n",
       "    <tr>\n",
       "      <th>2017</th>\n",
       "      <td>-0.201390</td>\n",
       "      <td>1.210494</td>\n",
       "    </tr>\n",
       "    <tr>\n",
       "      <th>2018</th>\n",
       "      <td>-0.465098</td>\n",
       "      <td>1.875928</td>\n",
       "    </tr>\n",
       "    <tr>\n",
       "      <th>2019</th>\n",
       "      <td>-0.101188</td>\n",
       "      <td>1.196727</td>\n",
       "    </tr>\n",
       "  </tbody>\n",
       "</table>\n",
       "</div>"
      ],
      "text/plain": [
       "      EXP TRIGO  EXP ARROZ\n",
       "Ano                       \n",
       "2017  -0.201390   1.210494\n",
       "2018  -0.465098   1.875928\n",
       "2019  -0.101188   1.196727"
      ]
     },
     "execution_count": 27,
     "metadata": {},
     "output_type": "execute_result"
    }
   ],
   "source": [
    "df1.loc['BRASIL']"
   ]
  },
  {
   "cell_type": "code",
   "execution_count": 28,
   "id": "8a0ad1c7",
   "metadata": {},
   "outputs": [
    {
     "data": {
      "text/html": [
       "<div>\n",
       "<style scoped>\n",
       "    .dataframe tbody tr th:only-of-type {\n",
       "        vertical-align: middle;\n",
       "    }\n",
       "\n",
       "    .dataframe tbody tr th {\n",
       "        vertical-align: top;\n",
       "    }\n",
       "\n",
       "    .dataframe thead th {\n",
       "        text-align: right;\n",
       "    }\n",
       "</style>\n",
       "<table border=\"1\" class=\"dataframe\">\n",
       "  <thead>\n",
       "    <tr style=\"text-align: right;\">\n",
       "      <th></th>\n",
       "      <th>EXP TRIGO</th>\n",
       "      <th>EXP ARROZ</th>\n",
       "    </tr>\n",
       "    <tr>\n",
       "      <th>País</th>\n",
       "      <th></th>\n",
       "      <th></th>\n",
       "    </tr>\n",
       "  </thead>\n",
       "  <tbody>\n",
       "    <tr>\n",
       "      <th>BRASIL</th>\n",
       "      <td>-0.201390</td>\n",
       "      <td>1.210494</td>\n",
       "    </tr>\n",
       "    <tr>\n",
       "      <th>ARGENTINA</th>\n",
       "      <td>-0.470613</td>\n",
       "      <td>1.859459</td>\n",
       "    </tr>\n",
       "  </tbody>\n",
       "</table>\n",
       "</div>"
      ],
      "text/plain": [
       "           EXP TRIGO  EXP ARROZ\n",
       "País                           \n",
       "BRASIL     -0.201390   1.210494\n",
       "ARGENTINA  -0.470613   1.859459"
      ]
     },
     "execution_count": 28,
     "metadata": {},
     "output_type": "execute_result"
    }
   ],
   "source": [
    "df1.xs(2017,level=1) # Função que retorna os valores de outras seções do Dataframe"
   ]
  },
  {
   "cell_type": "code",
   "execution_count": 29,
   "id": "01dc849c",
   "metadata": {},
   "outputs": [
    {
     "data": {
      "text/html": [
       "<div>\n",
       "<style scoped>\n",
       "    .dataframe tbody tr th:only-of-type {\n",
       "        vertical-align: middle;\n",
       "    }\n",
       "\n",
       "    .dataframe tbody tr th {\n",
       "        vertical-align: top;\n",
       "    }\n",
       "\n",
       "    .dataframe thead th {\n",
       "        text-align: right;\n",
       "    }\n",
       "</style>\n",
       "<table border=\"1\" class=\"dataframe\">\n",
       "  <thead>\n",
       "    <tr style=\"text-align: right;\">\n",
       "      <th></th>\n",
       "      <th></th>\n",
       "      <th>EXP TRIGO</th>\n",
       "      <th>EXP ARROZ</th>\n",
       "    </tr>\n",
       "    <tr>\n",
       "      <th>País</th>\n",
       "      <th>Ano</th>\n",
       "      <th></th>\n",
       "      <th></th>\n",
       "    </tr>\n",
       "  </thead>\n",
       "  <tbody>\n",
       "    <tr>\n",
       "      <th rowspan=\"3\" valign=\"top\">BRASIL</th>\n",
       "      <th>2017</th>\n",
       "      <td>-0.201390</td>\n",
       "      <td>1.210494</td>\n",
       "    </tr>\n",
       "    <tr>\n",
       "      <th>2018</th>\n",
       "      <td>-0.465098</td>\n",
       "      <td>1.875928</td>\n",
       "    </tr>\n",
       "    <tr>\n",
       "      <th>2019</th>\n",
       "      <td>-0.101188</td>\n",
       "      <td>1.196727</td>\n",
       "    </tr>\n",
       "    <tr>\n",
       "      <th rowspan=\"2\" valign=\"top\">ARGENTINA</th>\n",
       "      <th>2017</th>\n",
       "      <td>-0.470613</td>\n",
       "      <td>1.859459</td>\n",
       "    </tr>\n",
       "    <tr>\n",
       "      <th>2018</th>\n",
       "      <td>0.972558</td>\n",
       "      <td>-0.205548</td>\n",
       "    </tr>\n",
       "  </tbody>\n",
       "</table>\n",
       "</div>"
      ],
      "text/plain": [
       "                EXP TRIGO  EXP ARROZ\n",
       "País      Ano                       \n",
       "BRASIL    2017  -0.201390   1.210494\n",
       "          2018  -0.465098   1.875928\n",
       "          2019  -0.101188   1.196727\n",
       "ARGENTINA 2017  -0.470613   1.859459\n",
       "          2018   0.972558  -0.205548"
      ]
     },
     "execution_count": 29,
     "metadata": {},
     "output_type": "execute_result"
    }
   ],
   "source": [
    "df1[0:5]"
   ]
  },
  {
   "cell_type": "code",
   "execution_count": 30,
   "id": "dd7a068b",
   "metadata": {},
   "outputs": [
    {
     "data": {
      "text/html": [
       "<div>\n",
       "<style scoped>\n",
       "    .dataframe tbody tr th:only-of-type {\n",
       "        vertical-align: middle;\n",
       "    }\n",
       "\n",
       "    .dataframe tbody tr th {\n",
       "        vertical-align: top;\n",
       "    }\n",
       "\n",
       "    .dataframe thead th {\n",
       "        text-align: right;\n",
       "    }\n",
       "</style>\n",
       "<table border=\"1\" class=\"dataframe\">\n",
       "  <thead>\n",
       "    <tr style=\"text-align: right;\">\n",
       "      <th></th>\n",
       "      <th></th>\n",
       "      <th>EXP TRIGO</th>\n",
       "      <th>EXP ARROZ</th>\n",
       "    </tr>\n",
       "    <tr>\n",
       "      <th>País</th>\n",
       "      <th>Ano</th>\n",
       "      <th></th>\n",
       "      <th></th>\n",
       "    </tr>\n",
       "  </thead>\n",
       "  <tbody>\n",
       "    <tr>\n",
       "      <th rowspan=\"3\" valign=\"top\">BRASIL</th>\n",
       "      <th>2017</th>\n",
       "      <td>-0.201390</td>\n",
       "      <td>1.210494</td>\n",
       "    </tr>\n",
       "    <tr>\n",
       "      <th>2018</th>\n",
       "      <td>-0.465098</td>\n",
       "      <td>1.875928</td>\n",
       "    </tr>\n",
       "    <tr>\n",
       "      <th>2019</th>\n",
       "      <td>-0.101188</td>\n",
       "      <td>1.196727</td>\n",
       "    </tr>\n",
       "    <tr>\n",
       "      <th rowspan=\"3\" valign=\"top\">ARGENTINA</th>\n",
       "      <th>2017</th>\n",
       "      <td>-0.470613</td>\n",
       "      <td>1.859459</td>\n",
       "    </tr>\n",
       "    <tr>\n",
       "      <th>2018</th>\n",
       "      <td>0.972558</td>\n",
       "      <td>-0.205548</td>\n",
       "    </tr>\n",
       "    <tr>\n",
       "      <th>2019</th>\n",
       "      <td>-0.071854</td>\n",
       "      <td>1.523369</td>\n",
       "    </tr>\n",
       "  </tbody>\n",
       "</table>\n",
       "</div>"
      ],
      "text/plain": [
       "                EXP TRIGO  EXP ARROZ\n",
       "País      Ano                       \n",
       "BRASIL    2017  -0.201390   1.210494\n",
       "          2018  -0.465098   1.875928\n",
       "          2019  -0.101188   1.196727\n",
       "ARGENTINA 2017  -0.470613   1.859459\n",
       "          2018   0.972558  -0.205548\n",
       "          2019  -0.071854   1.523369"
      ]
     },
     "execution_count": 30,
     "metadata": {},
     "output_type": "execute_result"
    }
   ],
   "source": [
    "df1[['EXP TRIGO','EXP ARROZ']]"
   ]
  },
  {
   "cell_type": "code",
   "execution_count": 31,
   "id": "9fb675b6",
   "metadata": {},
   "outputs": [],
   "source": [
    "# Vendo o Dataframe de outra maneira"
   ]
  },
  {
   "cell_type": "code",
   "execution_count": 33,
   "id": "2decf4a0",
   "metadata": {},
   "outputs": [
    {
     "data": {
      "text/html": [
       "<div>\n",
       "<style scoped>\n",
       "    .dataframe tbody tr th:only-of-type {\n",
       "        vertical-align: middle;\n",
       "    }\n",
       "\n",
       "    .dataframe tbody tr th {\n",
       "        vertical-align: top;\n",
       "    }\n",
       "\n",
       "    .dataframe thead tr th {\n",
       "        text-align: left;\n",
       "    }\n",
       "\n",
       "    .dataframe thead tr:last-of-type th {\n",
       "        text-align: right;\n",
       "    }\n",
       "</style>\n",
       "<table border=\"1\" class=\"dataframe\">\n",
       "  <thead>\n",
       "    <tr>\n",
       "      <th></th>\n",
       "      <th colspan=\"3\" halign=\"left\">EXP TRIGO</th>\n",
       "      <th colspan=\"3\" halign=\"left\">EXP ARROZ</th>\n",
       "    </tr>\n",
       "    <tr>\n",
       "      <th>Ano</th>\n",
       "      <th>2017</th>\n",
       "      <th>2018</th>\n",
       "      <th>2019</th>\n",
       "      <th>2017</th>\n",
       "      <th>2018</th>\n",
       "      <th>2019</th>\n",
       "    </tr>\n",
       "    <tr>\n",
       "      <th>País</th>\n",
       "      <th></th>\n",
       "      <th></th>\n",
       "      <th></th>\n",
       "      <th></th>\n",
       "      <th></th>\n",
       "      <th></th>\n",
       "    </tr>\n",
       "  </thead>\n",
       "  <tbody>\n",
       "    <tr>\n",
       "      <th>ARGENTINA</th>\n",
       "      <td>-0.470613</td>\n",
       "      <td>0.972558</td>\n",
       "      <td>-0.071854</td>\n",
       "      <td>1.859459</td>\n",
       "      <td>-0.205548</td>\n",
       "      <td>1.523369</td>\n",
       "    </tr>\n",
       "    <tr>\n",
       "      <th>BRASIL</th>\n",
       "      <td>-0.201390</td>\n",
       "      <td>-0.465098</td>\n",
       "      <td>-0.101188</td>\n",
       "      <td>1.210494</td>\n",
       "      <td>1.875928</td>\n",
       "      <td>1.196727</td>\n",
       "    </tr>\n",
       "  </tbody>\n",
       "</table>\n",
       "</div>"
      ],
      "text/plain": [
       "          EXP TRIGO                     EXP ARROZ                    \n",
       "Ano            2017      2018      2019      2017      2018      2019\n",
       "País                                                                 \n",
       "ARGENTINA -0.470613  0.972558 -0.071854  1.859459 -0.205548  1.523369\n",
       "BRASIL    -0.201390 -0.465098 -0.101188  1.210494  1.875928  1.196727"
      ]
     },
     "execution_count": 33,
     "metadata": {},
     "output_type": "execute_result"
    }
   ],
   "source": [
    "df1.unstack()"
   ]
  },
  {
   "cell_type": "code",
   "execution_count": 34,
   "id": "9b959718",
   "metadata": {},
   "outputs": [],
   "source": [
    "df2 = df1.unstack()"
   ]
  },
  {
   "cell_type": "code",
   "execution_count": 35,
   "id": "4ea2b10c",
   "metadata": {},
   "outputs": [
    {
     "data": {
      "text/html": [
       "<div>\n",
       "<style scoped>\n",
       "    .dataframe tbody tr th:only-of-type {\n",
       "        vertical-align: middle;\n",
       "    }\n",
       "\n",
       "    .dataframe tbody tr th {\n",
       "        vertical-align: top;\n",
       "    }\n",
       "\n",
       "    .dataframe thead tr th {\n",
       "        text-align: left;\n",
       "    }\n",
       "\n",
       "    .dataframe thead tr:last-of-type th {\n",
       "        text-align: right;\n",
       "    }\n",
       "</style>\n",
       "<table border=\"1\" class=\"dataframe\">\n",
       "  <thead>\n",
       "    <tr>\n",
       "      <th></th>\n",
       "      <th colspan=\"3\" halign=\"left\">EXP TRIGO</th>\n",
       "      <th colspan=\"3\" halign=\"left\">EXP ARROZ</th>\n",
       "    </tr>\n",
       "    <tr>\n",
       "      <th>Ano</th>\n",
       "      <th>2017</th>\n",
       "      <th>2018</th>\n",
       "      <th>2019</th>\n",
       "      <th>2017</th>\n",
       "      <th>2018</th>\n",
       "      <th>2019</th>\n",
       "    </tr>\n",
       "    <tr>\n",
       "      <th>País</th>\n",
       "      <th></th>\n",
       "      <th></th>\n",
       "      <th></th>\n",
       "      <th></th>\n",
       "      <th></th>\n",
       "      <th></th>\n",
       "    </tr>\n",
       "  </thead>\n",
       "  <tbody>\n",
       "    <tr>\n",
       "      <th>ARGENTINA</th>\n",
       "      <td>-0.470613</td>\n",
       "      <td>0.972558</td>\n",
       "      <td>-0.071854</td>\n",
       "      <td>1.859459</td>\n",
       "      <td>-0.205548</td>\n",
       "      <td>1.523369</td>\n",
       "    </tr>\n",
       "    <tr>\n",
       "      <th>BRASIL</th>\n",
       "      <td>-0.201390</td>\n",
       "      <td>-0.465098</td>\n",
       "      <td>-0.101188</td>\n",
       "      <td>1.210494</td>\n",
       "      <td>1.875928</td>\n",
       "      <td>1.196727</td>\n",
       "    </tr>\n",
       "  </tbody>\n",
       "</table>\n",
       "</div>"
      ],
      "text/plain": [
       "          EXP TRIGO                     EXP ARROZ                    \n",
       "Ano            2017      2018      2019      2017      2018      2019\n",
       "País                                                                 \n",
       "ARGENTINA -0.470613  0.972558 -0.071854  1.859459 -0.205548  1.523369\n",
       "BRASIL    -0.201390 -0.465098 -0.101188  1.210494  1.875928  1.196727"
      ]
     },
     "execution_count": 35,
     "metadata": {},
     "output_type": "execute_result"
    }
   ],
   "source": [
    "df2"
   ]
  },
  {
   "cell_type": "code",
   "execution_count": 36,
   "id": "d5b4e346",
   "metadata": {},
   "outputs": [
    {
     "data": {
      "text/html": [
       "<div>\n",
       "<style scoped>\n",
       "    .dataframe tbody tr th:only-of-type {\n",
       "        vertical-align: middle;\n",
       "    }\n",
       "\n",
       "    .dataframe tbody tr th {\n",
       "        vertical-align: top;\n",
       "    }\n",
       "\n",
       "    .dataframe thead th {\n",
       "        text-align: right;\n",
       "    }\n",
       "</style>\n",
       "<table border=\"1\" class=\"dataframe\">\n",
       "  <thead>\n",
       "    <tr style=\"text-align: right;\">\n",
       "      <th></th>\n",
       "      <th>EXP TRIGO</th>\n",
       "      <th>EXP ARROZ</th>\n",
       "    </tr>\n",
       "    <tr>\n",
       "      <th>País</th>\n",
       "      <th></th>\n",
       "      <th></th>\n",
       "    </tr>\n",
       "  </thead>\n",
       "  <tbody>\n",
       "    <tr>\n",
       "      <th>ARGENTINA</th>\n",
       "      <td>-0.470613</td>\n",
       "      <td>1.859459</td>\n",
       "    </tr>\n",
       "    <tr>\n",
       "      <th>BRASIL</th>\n",
       "      <td>-0.201390</td>\n",
       "      <td>1.210494</td>\n",
       "    </tr>\n",
       "  </tbody>\n",
       "</table>\n",
       "</div>"
      ],
      "text/plain": [
       "           EXP TRIGO  EXP ARROZ\n",
       "País                           \n",
       "ARGENTINA  -0.470613   1.859459\n",
       "BRASIL     -0.201390   1.210494"
      ]
     },
     "execution_count": 36,
     "metadata": {},
     "output_type": "execute_result"
    }
   ],
   "source": [
    "df2.xs(2017,axis=1,level=1)"
   ]
  }
 ],
 "metadata": {
  "kernelspec": {
   "display_name": "Python 3 (ipykernel)",
   "language": "python",
   "name": "python3"
  },
  "language_info": {
   "codemirror_mode": {
    "name": "ipython",
    "version": 3
   },
   "file_extension": ".py",
   "mimetype": "text/x-python",
   "name": "python",
   "nbconvert_exporter": "python",
   "pygments_lexer": "ipython3",
   "version": "3.11.4"
  }
 },
 "nbformat": 4,
 "nbformat_minor": 5
}
