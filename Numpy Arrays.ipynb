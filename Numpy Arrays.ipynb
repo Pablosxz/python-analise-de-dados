{
 "cells": [
  {
   "cell_type": "code",
   "execution_count": 34,
   "id": "694d6622",
   "metadata": {},
   "outputs": [],
   "source": [
    "import numpy as np"
   ]
  },
  {
   "cell_type": "code",
   "execution_count": 35,
   "id": "73fef6e2",
   "metadata": {},
   "outputs": [],
   "source": [
    "qtd = [4,26,54,152]\n",
    "custo = [100, 150, 220, 450]"
   ]
  },
  {
   "cell_type": "code",
   "execution_count": 36,
   "id": "ec71ef76",
   "metadata": {},
   "outputs": [],
   "source": [
    "arr1 = np.array(qtd)"
   ]
  },
  {
   "cell_type": "code",
   "execution_count": 37,
   "id": "2b7cf7c8",
   "metadata": {},
   "outputs": [],
   "source": [
    "arr2 = np.array(custo)"
   ]
  },
  {
   "cell_type": "code",
   "execution_count": 38,
   "id": "2a76c430",
   "metadata": {},
   "outputs": [],
   "source": [
    "estoque = arr1*arr2"
   ]
  },
  {
   "cell_type": "code",
   "execution_count": 39,
   "id": "6a94f48e",
   "metadata": {},
   "outputs": [
    {
     "data": {
      "text/plain": [
       "array([  400,  3900, 11880, 68400])"
      ]
     },
     "execution_count": 39,
     "metadata": {},
     "output_type": "execute_result"
    }
   ],
   "source": [
    "estoque"
   ]
  },
  {
   "cell_type": "code",
   "execution_count": 40,
   "id": "2fec2b92",
   "metadata": {},
   "outputs": [],
   "source": [
    "# Exemplo - Cálculo de lucro utilizando arrays"
   ]
  },
  {
   "cell_type": "code",
   "execution_count": 41,
   "id": "38a15980",
   "metadata": {},
   "outputs": [],
   "source": [
    "custo = [100,250,345,512]\n",
    "venda = [165,312,430,640]"
   ]
  },
  {
   "cell_type": "code",
   "execution_count": 42,
   "id": "abd77349",
   "metadata": {},
   "outputs": [],
   "source": [
    "arr3 = np.array(custo)"
   ]
  },
  {
   "cell_type": "code",
   "execution_count": 43,
   "id": "c10c970e",
   "metadata": {},
   "outputs": [],
   "source": [
    "arr4 = np.array(venda)"
   ]
  },
  {
   "cell_type": "code",
   "execution_count": 44,
   "id": "725c0a33",
   "metadata": {},
   "outputs": [],
   "source": [
    "lucro = arr4 - arr3"
   ]
  },
  {
   "cell_type": "code",
   "execution_count": 45,
   "id": "685fa340",
   "metadata": {},
   "outputs": [
    {
     "data": {
      "text/plain": [
       "array([ 65,  62,  85, 128])"
      ]
     },
     "execution_count": 45,
     "metadata": {},
     "output_type": "execute_result"
    }
   ],
   "source": [
    "lucro"
   ]
  },
  {
   "cell_type": "code",
   "execution_count": null,
   "id": "830d6620",
   "metadata": {},
   "outputs": [],
   "source": []
  },
  {
   "cell_type": "code",
   "execution_count": 46,
   "id": "5673bd2d",
   "metadata": {},
   "outputs": [],
   "source": [
    "# Função arange()"
   ]
  },
  {
   "cell_type": "code",
   "execution_count": 47,
   "id": "0541881a",
   "metadata": {},
   "outputs": [
    {
     "data": {
      "text/plain": [
       "array([10, 11, 12, 13, 14, 15, 16, 17, 18, 19])"
      ]
     },
     "execution_count": 47,
     "metadata": {},
     "output_type": "execute_result"
    }
   ],
   "source": [
    "np.arange(10,20)"
   ]
  },
  {
   "cell_type": "code",
   "execution_count": 49,
   "id": "1c60e4f0",
   "metadata": {},
   "outputs": [
    {
     "data": {
      "text/plain": [
       "array([10, 12, 14, 16, 18, 20])"
      ]
     },
     "execution_count": 49,
     "metadata": {},
     "output_type": "execute_result"
    }
   ],
   "source": [
    "np.arange(10,21,2)"
   ]
  },
  {
   "cell_type": "code",
   "execution_count": 50,
   "id": "6c626bbb",
   "metadata": {},
   "outputs": [
    {
     "data": {
      "text/plain": [
       "array([10., 12., 14., 16., 18., 20., 22., 24., 26., 28., 30., 32., 34.,\n",
       "       36., 38., 40., 42., 44., 46., 48., 50.])"
      ]
     },
     "execution_count": 50,
     "metadata": {},
     "output_type": "execute_result"
    }
   ],
   "source": [
    "np.arange(10,51,2,dtype=float)"
   ]
  },
  {
   "cell_type": "code",
   "execution_count": null,
   "id": "7adcaf96",
   "metadata": {},
   "outputs": [],
   "source": [
    "# Função linspace()"
   ]
  },
  {
   "cell_type": "code",
   "execution_count": 51,
   "id": "776a56fa",
   "metadata": {},
   "outputs": [
    {
     "data": {
      "text/plain": [
       "array([0.        , 0.11111111, 0.22222222, 0.33333333, 0.44444444,\n",
       "       0.55555556, 0.66666667, 0.77777778, 0.88888889, 1.        ])"
      ]
     },
     "execution_count": 51,
     "metadata": {},
     "output_type": "execute_result"
    }
   ],
   "source": [
    "np.linspace(0,1,10)"
   ]
  },
  {
   "cell_type": "code",
   "execution_count": 52,
   "id": "82dbc386",
   "metadata": {},
   "outputs": [
    {
     "data": {
      "text/plain": [
       "array([ 0.        ,  2.22222222,  4.44444444,  6.66666667,  8.88888889,\n",
       "       11.11111111, 13.33333333, 15.55555556, 17.77777778, 20.        ])"
      ]
     },
     "execution_count": 52,
     "metadata": {},
     "output_type": "execute_result"
    }
   ],
   "source": [
    "np.linspace(0,20,10)"
   ]
  },
  {
   "cell_type": "code",
   "execution_count": null,
   "id": "40a51597",
   "metadata": {},
   "outputs": [],
   "source": []
  }
 ],
 "metadata": {
  "kernelspec": {
   "display_name": "Python 3 (ipykernel)",
   "language": "python",
   "name": "python3"
  },
  "language_info": {
   "codemirror_mode": {
    "name": "ipython",
    "version": 3
   },
   "file_extension": ".py",
   "mimetype": "text/x-python",
   "name": "python",
   "nbconvert_exporter": "python",
   "pygments_lexer": "ipython3",
   "version": "3.11.4"
  }
 },
 "nbformat": 4,
 "nbformat_minor": 5
}
