{
 "cells": [
  {
   "cell_type": "code",
   "execution_count": 4,
   "id": "71613d39",
   "metadata": {},
   "outputs": [],
   "source": [
    "import pandas as pd\n",
    "import numpy as np"
   ]
  },
  {
   "cell_type": "code",
   "execution_count": 5,
   "id": "f774a31d",
   "metadata": {},
   "outputs": [],
   "source": [
    "# Criação de Series - A partir de listas"
   ]
  },
  {
   "cell_type": "code",
   "execution_count": 6,
   "id": "c0d3af71",
   "metadata": {},
   "outputs": [],
   "source": [
    "lista = [23,51,\"ola\",45]"
   ]
  },
  {
   "cell_type": "code",
   "execution_count": 7,
   "id": "3d487c80",
   "metadata": {},
   "outputs": [],
   "source": [
    "series1 = pd.Series(lista)"
   ]
  },
  {
   "cell_type": "code",
   "execution_count": 8,
   "id": "cabf50f5",
   "metadata": {},
   "outputs": [
    {
     "data": {
      "text/plain": [
       "0     23\n",
       "1     51\n",
       "2    ola\n",
       "3     45\n",
       "dtype: object"
      ]
     },
     "execution_count": 8,
     "metadata": {},
     "output_type": "execute_result"
    }
   ],
   "source": [
    "series1"
   ]
  },
  {
   "cell_type": "code",
   "execution_count": 9,
   "id": "4aebaec3",
   "metadata": {},
   "outputs": [],
   "source": [
    "# A partir de Dicionários"
   ]
  },
  {
   "cell_type": "code",
   "execution_count": 14,
   "id": "622ed081",
   "metadata": {},
   "outputs": [],
   "source": [
    "dic = {\"tel0\":\"849955889\", \"tel1\":\"394739499\",\"tel2\":\"859392844\"}"
   ]
  },
  {
   "cell_type": "code",
   "execution_count": 15,
   "id": "2f629abf",
   "metadata": {},
   "outputs": [],
   "source": [
    "series2 = pd.Series(dic)"
   ]
  },
  {
   "cell_type": "code",
   "execution_count": 16,
   "id": "0c88c614",
   "metadata": {},
   "outputs": [
    {
     "data": {
      "text/plain": [
       "tel0    849955889\n",
       "tel1    394739499\n",
       "tel2    859392844\n",
       "dtype: object"
      ]
     },
     "execution_count": 16,
     "metadata": {},
     "output_type": "execute_result"
    }
   ],
   "source": [
    "series2"
   ]
  },
  {
   "cell_type": "code",
   "execution_count": 17,
   "id": "7c2b8afd",
   "metadata": {},
   "outputs": [
    {
     "data": {
      "text/plain": [
       "51"
      ]
     },
     "execution_count": 17,
     "metadata": {},
     "output_type": "execute_result"
    }
   ],
   "source": [
    "series1[1]"
   ]
  },
  {
   "cell_type": "code",
   "execution_count": 20,
   "id": "111635c7",
   "metadata": {},
   "outputs": [
    {
     "data": {
      "text/plain": [
       "'859392844'"
      ]
     },
     "execution_count": 20,
     "metadata": {},
     "output_type": "execute_result"
    }
   ],
   "source": [
    "series2['tel2']"
   ]
  },
  {
   "cell_type": "code",
   "execution_count": 21,
   "id": "68540237",
   "metadata": {},
   "outputs": [],
   "source": [
    "# A partir de um Array"
   ]
  },
  {
   "cell_type": "code",
   "execution_count": 22,
   "id": "e2e2dbb8",
   "metadata": {},
   "outputs": [],
   "source": [
    "arr = np.array([10,20,30,40,50])"
   ]
  },
  {
   "cell_type": "code",
   "execution_count": 23,
   "id": "0aac37c2",
   "metadata": {},
   "outputs": [],
   "source": [
    "series3 = pd.Series(arr)"
   ]
  },
  {
   "cell_type": "code",
   "execution_count": 24,
   "id": "5dbfe9a6",
   "metadata": {},
   "outputs": [
    {
     "data": {
      "text/plain": [
       "0    10\n",
       "1    20\n",
       "2    30\n",
       "3    40\n",
       "4    50\n",
       "dtype: int32"
      ]
     },
     "execution_count": 24,
     "metadata": {},
     "output_type": "execute_result"
    }
   ],
   "source": [
    "series3"
   ]
  },
  {
   "cell_type": "code",
   "execution_count": null,
   "id": "276ef447",
   "metadata": {},
   "outputs": [],
   "source": [
    "# Alterando os indices padrão das Series"
   ]
  },
  {
   "cell_type": "code",
   "execution_count": 27,
   "id": "a72c0a93",
   "metadata": {},
   "outputs": [],
   "source": [
    "series4 = pd.Series([1,2,3,4],index=['Brasil', 'Eua', 'Argentina','Chile']) # pd.series(dados,indices)"
   ]
  },
  {
   "cell_type": "code",
   "execution_count": 26,
   "id": "06e424a0",
   "metadata": {},
   "outputs": [
    {
     "data": {
      "text/plain": [
       "Brasil       1\n",
       "Eua          2\n",
       "Argentina    3\n",
       "Chile        4\n",
       "dtype: int64"
      ]
     },
     "execution_count": 26,
     "metadata": {},
     "output_type": "execute_result"
    }
   ],
   "source": [
    "series4"
   ]
  },
  {
   "cell_type": "code",
   "execution_count": 28,
   "id": "cc67835d",
   "metadata": {},
   "outputs": [],
   "source": [
    "series5 = pd.Series(data=[2,4,6,8],index=['Brasil','Eua','Chile', 'Uruguai'])"
   ]
  },
  {
   "cell_type": "code",
   "execution_count": 29,
   "id": "31aa2a22",
   "metadata": {},
   "outputs": [
    {
     "data": {
      "text/plain": [
       "Brasil     2\n",
       "Eua        4\n",
       "Chile      6\n",
       "Uruguai    8\n",
       "dtype: int64"
      ]
     },
     "execution_count": 29,
     "metadata": {},
     "output_type": "execute_result"
    }
   ],
   "source": [
    "series5"
   ]
  },
  {
   "cell_type": "code",
   "execution_count": 30,
   "id": "db8f7ba9",
   "metadata": {},
   "outputs": [
    {
     "data": {
      "text/plain": [
       "Argentina     NaN\n",
       "Brasil        3.0\n",
       "Chile        10.0\n",
       "Eua           6.0\n",
       "Uruguai       NaN\n",
       "dtype: float64"
      ]
     },
     "execution_count": 30,
     "metadata": {},
     "output_type": "execute_result"
    }
   ],
   "source": [
    "series4 + series5 # Soma apenas os valores de indices iguais e retorna NaN quando não tem indice igual na outra Series"
   ]
  }
 ],
 "metadata": {
  "kernelspec": {
   "display_name": "Python 3 (ipykernel)",
   "language": "python",
   "name": "python3"
  },
  "language_info": {
   "codemirror_mode": {
    "name": "ipython",
    "version": 3
   },
   "file_extension": ".py",
   "mimetype": "text/x-python",
   "name": "python",
   "nbconvert_exporter": "python",
   "pygments_lexer": "ipython3",
   "version": "3.11.4"
  }
 },
 "nbformat": 4,
 "nbformat_minor": 5
}
